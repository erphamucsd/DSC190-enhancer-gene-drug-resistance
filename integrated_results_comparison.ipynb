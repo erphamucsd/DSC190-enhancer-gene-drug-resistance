{
 "cells": [
  {
   "cell_type": "markdown",
   "metadata": {},
   "source": [
    "# Comparing the Result of scRNA-seq and scChIP-seq Analysis\n",
    "### Eric Pham, Maahi Shah, Ben Deviney\n",
    "### DSC 190\n",
    "### 12/8/2024\n",
    "\n",
    "This is a notebook that compares the significant genes in each analysis. "
   ]
  },
  {
   "cell_type": "markdown",
   "metadata": {},
   "source": [
    "##### Overlapped Genes\n",
    "We want to see which genes showed up in both of the analyses."
   ]
  },
  {
   "cell_type": "code",
   "execution_count": 1,
   "metadata": {},
   "outputs": [],
   "source": [
    "'''Import Statements'''\n",
    "\n",
    "import pandas as pd\n",
    "from matplotlib import pyplot as plt\n",
    "import numpy as np\n",
    "from matplotlib_venn import venn3, venn3_circles"
   ]
  },
  {
   "cell_type": "code",
   "execution_count": null,
   "metadata": {},
   "outputs": [
    {
     "data": {
      "text/plain": [
       "{'BAD',\n",
       " 'CCDC127',\n",
       " 'CCT5',\n",
       " 'DMKN',\n",
       " 'DUSP22',\n",
       " 'EMC6',\n",
       " 'ETFA',\n",
       " 'GORASP2',\n",
       " 'GPR137',\n",
       " 'MRC2',\n",
       " 'MRGBP',\n",
       " 'MRPS23',\n",
       " 'NDUFS6',\n",
       " 'NME4',\n",
       " 'OPN3',\n",
       " 'PLCB3',\n",
       " 'PLEKHG4B',\n",
       " 'PRKAR1A',\n",
       " 'RBM17',\n",
       " 'RPS6KA4',\n",
       " 'SP3',\n",
       " 'SRRM2',\n",
       " 'TAX1BP3',\n",
       " 'TMEM147',\n",
       " 'TYW5',\n",
       " 'USP14',\n",
       " 'ZNF354A'}"
      ]
     },
     "execution_count": 17,
     "metadata": {},
     "output_type": "execute_result"
    }
   ],
   "source": [
    "'''Identify Overlapping Genes'''\n",
    "\n",
    "# Open result of both analyses.\n",
    "scRNA_genes = pd.read_csv(\"dge_scRNA_seq_genes.csv\", index_col=0)\n",
    "scChIP_genes = pd.read_csv(\"dgr_scChIP_seq_genes.csv\", index_col=0)\n",
    "\n",
    "# Get the set of gene names in each dataset.\n",
    "scRNA_gene_names = set(scRNA_genes['names'])\n",
    "scChIP_gene_names = set(scChIP_genes['Gene'])\n",
    "\n",
    "# Get the intersection.\n",
    "intersected_genes = scRNA_gene_names.intersection(scChIP_gene_names)\n",
    "intersected_genes"
   ]
  }
 ],
 "metadata": {
  "kernelspec": {
   "display_name": "jpl",
   "language": "python",
   "name": "python3"
  },
  "language_info": {
   "codemirror_mode": {
    "name": "ipython",
    "version": 3
   },
   "file_extension": ".py",
   "mimetype": "text/x-python",
   "name": "python",
   "nbconvert_exporter": "python",
   "pygments_lexer": "ipython3",
   "version": "3.9.18"
  }
 },
 "nbformat": 4,
 "nbformat_minor": 2
}
